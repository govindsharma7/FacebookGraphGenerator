{
 "cells": [
  {
   "cell_type": "code",
   "execution_count": null,
   "metadata": {
    "collapsed": false,
    "scrolled": true
   },
   "outputs": [],
   "source": [
    "import facebook #pip install facebook-sdk\n",
    "token = 'enter_access_token' #Replace this with the access token from the Graph API explorer\n",
    "graph = facebook.GraphAPI(token) #make a connection to the API\n",
    "profile = graph.get_object(\"me\") #access the profile of any object given their id, in this case, your own profile\n",
    "myid=profile['name']",
    "fbgraph={} #variable to store the graph in an adjacency list format\n",
    "friends = graph.get_connections(\"me\", \"friends\") #Store all your friends json in a list\n",
    "friend_list = [friend['name'] for friend in friends['data']] #Get only their names\n",
    "friend_ids = [friend['id'] for friend in friends['data']] #Get only their ids\n",
    "fbgraph[myid]=friend_list #Initialise the fbgraph with you as node, the friends from above has your neighbors in the adjacency list\n",
    "\n",
    "for fid in friend_ids:\n",
    "    friend_list=[]\n",
    "    temp_friends = graph.get_connections(fid, \"friends\") #Get friends of each of your friends\n",
    "    friend_list = [friend['name'] for friend in temp_friends['data']] #Get their names\n",
    "    fbgraph[fid]=friend_list #Append to adjacency list\n",
    "    \n"
   ]
  },
  {
   "cell_type": "code",
   "execution_count": null,
   "metadata": {
    "collapsed": false
   },
   "outputs": [],
   "source": [
    "import networkx as nx #pip install networkx\n",
    "G=nx.Graph(fbgraph)#Convert the adjacency list to networkx Graph\n"
   ]
  },
  {
   "cell_type": "code",
   "execution_count": null,
   "metadata": {
    "collapsed": false
   },
   "outputs": [],
   "source": [
    "import operator\n",
    "x=nx.clustering(G) #Get individual clustering coefficients of the nodes\n",
    "sorted_by_clustering_coefficents = sorted(x.items(), key=operator.itemgetter(1))#Sort them\n",
    "sorted_by_clustering_coefficents"
   ]
  },
  {
   "cell_type": "code",
   "execution_count": null,
   "metadata": {
    "collapsed": false,
    "scrolled": true
   },
   "outputs": [],
   "source": [
    "#Code to visualise the graph using d3\n",
    "import json\n",
    "from networkx.readwrite import json_graph\n",
    "import http_server\n",
    "for n in G:\n",
    "    G.node[n]['name'] = n\n",
    "# write json formatted data\n",
    "d = json_graph.node_link_data(G) # node-link format to serialize\n",
    "# write json\n",
    "json.dump(d, open('force.json','w'))\n",
    "print('Wrote node-link JSON data to force/force.json')\n",
    "# open URL in running web browser\n",
    "http_server.load_url('force.html')\n",
    "print('Or copy all files in force/ to webserver and load force/force.html')"
   ]
  },
  {
   "cell_type": "code",
   "execution_count": null,
   "metadata": {
    "collapsed": false
   },
   "outputs": [],
   "source": [
    "myid"
   ]
  },
  {
   "cell_type": "code",
   "execution_count": null,
   "metadata": {
    "collapsed": true
   },
   "outputs": [],
   "source": []
  }
 ],
 "metadata": {
  "kernelspec": {
   "display_name": "Python 2",
   "language": "python",
   "name": "python2"
  },
  "language_info": {
   "codemirror_mode": {
    "name": "ipython",
    "version": 2
   },
   "file_extension": ".py",
   "mimetype": "text/x-python",
   "name": "python",
   "nbconvert_exporter": "python",
   "pygments_lexer": "ipython2",
   "version": "2.7.12"
  }
 },
 "nbformat": 4,
 "nbformat_minor": 0
}
